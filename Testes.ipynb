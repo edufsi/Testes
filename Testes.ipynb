{
  "nbformat": 4,
  "nbformat_minor": 0,
  "metadata": {
    "colab": {
      "provenance": [],
      "authorship_tag": "ABX9TyMWRmc820ospgBaKcKVjkD1",
      "include_colab_link": true
    },
    "kernelspec": {
      "name": "python3",
      "display_name": "Python 3"
    },
    "language_info": {
      "name": "python"
    }
  },
  "cells": [
    {
      "cell_type": "markdown",
      "metadata": {
        "id": "view-in-github",
        "colab_type": "text"
      },
      "source": [
        "<a href=\"https://colab.research.google.com/github/edufsi/Testes/blob/main/Testes.ipynb\" target=\"_parent\"><img src=\"https://colab.research.google.com/assets/colab-badge.svg\" alt=\"Open In Colab\"/></a>"
      ]
    },
    {
      "cell_type": "code",
      "execution_count": null,
      "metadata": {
        "id": "Ux54uT2VFdsI"
      },
      "outputs": [],
      "source": [
        "print(\"Ola\")"
      ]
    },
    {
      "cell_type": "code",
      "source": [
        "print(130 * (1 + 0.1)**3)\n"
      ],
      "metadata": {
        "id": "OB95aIA3G_K3",
        "outputId": "f4a30830-0ad1-4683-d168-8ffa8375c9bf",
        "colab": {
          "base_uri": "https://localhost:8080/"
        }
      },
      "execution_count": 2,
      "outputs": [
        {
          "output_type": "stream",
          "name": "stdout",
          "text": [
            "173.03000000000006\n"
          ]
        }
      ]
    },
    {
      "cell_type": "code",
      "source": [
        "altura = 1.75\n",
        "peso = 75\n",
        "print(f'{peso / (altura) ** 2:.2f}')"
      ],
      "metadata": {
        "id": "vMi0Kv3UNZzf",
        "outputId": "24921315-b268-43e2-a702-37bcc2b54767",
        "colab": {
          "base_uri": "https://localhost:8080/"
        }
      },
      "execution_count": 8,
      "outputs": [
        {
          "output_type": "stream",
          "name": "stdout",
          "text": [
            "24.49\n"
          ]
        }
      ]
    },
    {
      "cell_type": "code",
      "source": [
        "nome = \"Eduardo\"\n",
        "qtd_meses = 5\n",
        "divida = 100.0\n",
        "\n",
        "print(\"Eu, {}, pagarei daqui a {} meses a quantia de {:.2f} reais!\".format(nome, qtd_meses, divida))\n",
        "print(f'Eu, {nome}, pagarei daqui a {qtd_meses} meses a quantia de {divida:.2f} reais!')\n"
      ],
      "metadata": {
        "id": "-9TsP3NWPtDR",
        "outputId": "a859aa8b-83ff-4ff7-ae55-9612ba91b144",
        "colab": {
          "base_uri": "https://localhost:8080/"
        }
      },
      "execution_count": 13,
      "outputs": [
        {
          "output_type": "stream",
          "name": "stdout",
          "text": [
            "Eu, Eduardo, pagarei daqui a 5 meses a quantia de 100.00 reais!\n",
            "Eu, Eduardo, pagarei daqui a 5 meses a quantia de 100.00 reais!\n"
          ]
        }
      ]
    },
    {
      "cell_type": "markdown",
      "source": [],
      "metadata": {
        "id": "X16sMIGLcqhv"
      }
    },
    {
      "cell_type": "code",
      "source": [
        "nota = 7\n",
        "if nota <= 10 and nota >= 0:\n",
        "  if nota < 6:\n",
        "    print(\"D\")\n",
        "  elif nota < 7.5:\n",
        "    print(\"C\")\n",
        "  elif nota < 9:\n",
        "    print(\"B\")\n",
        "  else:\n",
        "    print(\"A\")\n",
        "else:\n",
        "  print(\"Nota invalida\")"
      ],
      "metadata": {
        "id": "sEXNlko5Vo8a",
        "outputId": "e0372d85-bd14-448a-d761-61c0cb32b977",
        "colab": {
          "base_uri": "https://localhost:8080/"
        }
      },
      "execution_count": 18,
      "outputs": [
        {
          "output_type": "stream",
          "name": "stdout",
          "text": [
            "C\n"
          ]
        }
      ]
    },
    {
      "cell_type": "code",
      "source": [],
      "metadata": {
        "id": "rf-VWZnHeYp8"
      },
      "execution_count": null,
      "outputs": []
    }
  ]
}